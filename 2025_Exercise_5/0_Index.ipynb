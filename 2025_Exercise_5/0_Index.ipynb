{
 "cells": [
  {
   "cell_type": "markdown",
   "metadata": {},
   "source": [
    "# Assignment 5 - Spectral leakage, window functions and spectrograms\n",
    "\n",
    "The focus of this exercise is to explore the limitations of Discrete Fourier Transformation as a tool in frequency analysis, and different approaches to managing these limitations. Finally, we will  take a closer look at the spectrogram as an analysis tool, and how the various parameters for spectrogram calculation affect the quality of our output.\n",
    "\n",
    "\n",
    "### Relevant lesestoff: \n",
    "- All of chapter 3 in Understanding Digital Signal Processing\n",
    "- Lecture notes from week 37 & 38\n",
    "\n",
    "### Introduction:\n",
    "\n",
    "So far in this course we have focused heavily certain deterministic signals which allow a \"clean\" frequency representation when calculating an $N$-point DFT. More precisely, our examples have concerned themselves with analyzing signals where the $N$ samples used for frequency decomposition will repeat immediately afterward. In the real world however this is not usually the case, and it is important to be aware of the affect this has on the frequency-domain representation of our signal.\n",
    "\n",
    "### Problems:\n",
    "||Poblem | Topic|\n",
    "|---|--- | --- |\n",
    "|1|[Spectral Leakage](1_spectral_leakage.ipynb) | What is spectral leakage, and why does it matter?|\n",
    "|2|[Zero Padding](2_zero_padding.ipynb) | Increasing the resolution bandwidth of a DFT|\n",
    "|3|[Window Functions](3_window_functions.ipynb) | Using window functions to mitigate spectral leakage|\n",
    "|4|[Spectrograms](4_spectrograms.ipynb) | Spectrograms, and their use in analyzing non-stationary signals|\n",
    "|5|[Exercise Review](5_exercise_review.ipynb)|*Notes for use in conversation with lecturer/student assistant*|\n",
    "\n",
    "<!--\n",
    "#### Notater til neste år:\n",
    "* Finn en tittel som ikke inneholder kommategn\n",
    "* Gjør noen justeringer på kulelagersignalet og definer \"klart tegn til skade\"\n",
    "-->"
   ]
  },
  {
   "cell_type": "markdown",
   "metadata": {},
   "source": [
    "### Approval of exercise\n",
    "\n",
    "The exercise must be approved in person by teacher or teaching assistant during one of the lab session. A minimum of 4 out of 5 tasks should be answered by that time.\n",
    "\n",
    "### Hand-in for portfolio\n",
    "\n",
    "Once the assignment has been approved, run the below code cell to generate a PDF-document for the assignment, and upload it to Blackboard.\n",
    "\n"
   ]
  },
  {
   "cell_type": "code",
   "execution_count": null,
   "metadata": {},
   "outputs": [],
   "source": [
    "from pdf_export import write_to_PDF, pdf_convert_debug\n",
    "\n",
    "# Custom PDF file data\n",
    "author = input(\"What is your name?\")\n",
    "\n",
    "write_to_PDF(author)\n"
   ]
  }
 ],
 "metadata": {
  "hide_input": false,
  "kernelspec": {
   "display_name": "Python 3 (ipykernel)",
   "language": "python",
   "name": "python3"
  },
  "language_info": {
   "codemirror_mode": {
    "name": "ipython",
    "version": 3
   },
   "file_extension": ".py",
   "mimetype": "text/x-python",
   "name": "python",
   "nbconvert_exporter": "python",
   "pygments_lexer": "ipython3",
   "version": "3.12.2"
  },
  "toc": {
   "base_numbering": 1,
   "nav_menu": {},
   "number_sections": false,
   "sideBar": true,
   "skip_h1_title": false,
   "title_cell": "Innholdstabell",
   "title_sidebar": "Innhold",
   "toc_cell": false,
   "toc_position": {},
   "toc_section_display": true,
   "toc_window_display": false
  },
  "varInspector": {
   "cols": {
    "lenName": 16,
    "lenType": 16,
    "lenVar": 40
   },
   "kernels_config": {
    "python": {
     "delete_cmd_postfix": "",
     "delete_cmd_prefix": "del ",
     "library": "var_list.py",
     "varRefreshCmd": "print(var_dic_list())"
    },
    "r": {
     "delete_cmd_postfix": ") ",
     "delete_cmd_prefix": "rm(",
     "library": "var_list.r",
     "varRefreshCmd": "cat(var_dic_list()) "
    }
   },
   "types_to_exclude": [
    "module",
    "function",
    "builtin_function_or_method",
    "instance",
    "_Feature"
   ],
   "window_display": false
  }
 },
 "nbformat": 4,
 "nbformat_minor": 4
}
