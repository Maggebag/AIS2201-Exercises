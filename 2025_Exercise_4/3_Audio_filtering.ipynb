{
 "cells": [
  {
   "cell_type": "markdown",
   "metadata": {
    "deletable": false,
    "editable": false,
    "nbgrader": {
     "cell_type": "markdown",
     "checksum": "c9f83c504fdac345e3c0d2964b768fcb",
     "grade": false,
     "grade_id": "cell-7fca69c1d043778e",
     "locked": true,
     "schema_version": 3,
     "solution": false,
     "task": false
    }
   },
   "source": [
    "# Repairing an audio signal\n",
    "\n",
    "__Desired Learning Outcomes__:\n",
    "\n",
    "* Being able to interpret the DFT of a \"real-world\" signal, and use the information as a basis for further signal processing.\n",
    "\n",
    "**Prerequisites:**\n",
    "\n",
    "* We wil be working with an audio file. Make sure you have headphones available\n",
    "\n",
    "__Libraries and notebook-config:__"
   ]
  },
  {
   "cell_type": "code",
   "execution_count": null,
   "metadata": {},
   "outputs": [],
   "source": [
    "from numpy import sin, cos, pi, exp, mean, absolute, angle, conj # Sentrale matematiske funksjoner\n",
    "from numpy.fft import fft, ifft             # DFT og IDFT\n",
    "import numpy as np                          # Importer funksjonalitet fra numpy biblioteket med prefiks \"np\"\n",
    "import matplotlib.pyplot as plt             # Importer pyplot modulen i matplotlib med prefiks \"plt\"\n",
    "from scipy.io import wavfile                # Lydfil I/O\n",
    "from IPython.display import Audio           # For listening to processed audio\n",
    "\n",
    "%matplotlib ipympl"
   ]
  },
  {
   "cell_type": "markdown",
   "metadata": {
    "deletable": false,
    "editable": false,
    "nbgrader": {
     "cell_type": "markdown",
     "checksum": "ce4339bbc97f452aa84c5e3fede564ea",
     "grade": false,
     "grade_id": "cell-0461eec48749de53",
     "locked": true,
     "schema_version": 3,
     "solution": false,
     "task": false
    }
   },
   "source": [
    "**The Real-valued Fast Fourier Transform (RFFT)**\n",
    "\n",
    "In problems $1$ and $2$, we made use of the generalized FFT funciton in numpy, which returns a two-sided spectral representation. For real-valued signals this in not strictly speaking necessary, since the latter half of the FFT output is the complex conjugate of the former half. \n",
    "\n",
    "To exploit this pattern of symmetry, we can use the function [`numpy.fft.rfft`](https://numpy.org/doc/stable/reference/generated/numpy.fft.rfft.html) which only returns the positive frequency spectrum, and the function [`numpy.fft.irfft`](https://numpy.org/doc/stable/reference/generated/numpy.fft.irfft.html) which can reconstruct a time-domain signal from the positive frequency spectrum *and* knowledge of original signal length. Below is shown an example of use:\n",
    "\n",
    ">```Python\n",
    ">from numpy.fft import rfft, irfft\n",
    ">\n",
    ">xn = [1, 2, 3, 4]\n",
    ">Xm = rfft(xn) # Gives [10, -2 + 2j, -2]\n",
    ">xn = irfft(Xm, n=4) # Xm could belong to a signal of length 4 or 5. \n",
    "\n",
    "**Manipulation of Audio Signal.**\n",
    "\n",
    "We will now use Python to analyze an audio clip consisting of speech that is contaminated with a high-pitched beeping noise. The goal of this task is to remove the beeping noise from the audio signal by means of making adjustments to the signal composition in the frequency domain. The code cell below loads the audio signal as a numpy ndarray `xn` with floating-point values between -1.0 and 1.0. This is a list containing *all* the samples in the audio clip. Additionally, we also retrieve information about the sampling frequency of the audio clip in the variable `fs`.\n",
    "\n",
    "\n",
    "You can load and play the audio by running the code cell below:"
   ]
  },
  {
   "cell_type": "code",
   "execution_count": null,
   "metadata": {
    "deletable": false,
    "editable": false,
    "nbgrader": {
     "cell_type": "code",
     "checksum": "ed64b188aa8d247d4da1001c6673680e",
     "grade": false,
     "grade_id": "cell-f13e0984f3207616",
     "locked": true,
     "schema_version": 3,
     "solution": false,
     "task": false
    }
   },
   "outputs": [],
   "source": [
    "fs, data = wavfile.read(r'speech_w_tone.wav') \n",
    "xn = data/0x8000\n",
    "Audio(xn, rate=fs)"
   ]
  },
  {
   "cell_type": "markdown",
   "metadata": {
    "deletable": false,
    "editable": false,
    "nbgrader": {
     "cell_type": "markdown",
     "checksum": "542905cffd57b713b74cbefe80eb18fa",
     "grade": false,
     "grade_id": "cell-dbb16689bd7b8fdb",
     "locked": true,
     "schema_version": 3,
     "solution": false,
     "task": false
    }
   },
   "source": [
    "## a)\n",
    "\n",
    "\n",
    "Make use of what you have learned about Fourier transformation to identify the frequency of the beep tone. Here, you can use both code and graphical analysis depending on what is desired. Explain what you have done.\n",
    "\n",
    "Potentially useful functions:\n",
    "\n",
    "- [`max()`](https://docs.python.org/3/library/functions.html#max)\n",
    "- [`np.absolute()`](https://numpy.org/doc/stable/reference/generated/numpy.absolute.html)\n",
    "- [`np.where()`](https://numpy.org/doc/stable/reference/generated/numpy.where.html)\n",
    "\n",
    "*P.S. it is presumably not beneficial to produce a stem plot when working with signals of this size. The standard `plot()` function should be more suited to the task.* "
   ]
  },
  {
   "cell_type": "code",
   "execution_count": null,
   "metadata": {
    "deletable": false,
    "nbgrader": {
     "cell_type": "code",
     "checksum": "1b6104ec70306ff953217ac0b4236180",
     "grade": true,
     "grade_id": "cell-61d9333d7bb4131c",
     "locked": false,
     "points": 1,
     "schema_version": 3,
     "solution": true,
     "task": false
    }
   },
   "outputs": [],
   "source": [
    "# WRITE YOUR CODE IN THIS CELL:"
   ]
  },
  {
   "cell_type": "markdown",
   "metadata": {
    "deletable": false,
    "nbgrader": {
     "cell_type": "markdown",
     "checksum": "4c67f0a09ab421185746771cbd88a61f",
     "grade": true,
     "grade_id": "cell-3341133518f74381",
     "locked": false,
     "points": 1,
     "schema_version": 3,
     "solution": true,
     "task": false
    }
   },
   "source": [
    "\n",
    "<div class=\"alert alert-info\">\n",
    "<h4> Answer theory questions here!</h4>\n",
    "</div>\n"
   ]
  },
  {
   "cell_type": "markdown",
   "metadata": {
    "deletable": false,
    "editable": false,
    "nbgrader": {
     "cell_type": "markdown",
     "checksum": "e6defc604cdda4285022c1da4e09d0e8",
     "grade": false,
     "grade_id": "cell-0318e5acb0c28531",
     "locked": true,
     "schema_version": 3,
     "solution": false,
     "task": false
    }
   },
   "source": [
    "## b)\n",
    "**Use Fourier transformation to remove the beeping tone from the audio signal.**  \n",
    "_Hint: this will be most convenient to perform in the frequency domain. It should be fully possible to accomplish using the principles we have covered in problem 1 and 2._\n",
    "\n",
    "\n",
    "Make modifications to the DFT-sequence $X[m]$ and use IFFT to construct a new array `yn` which should contain the speech signal which is no longer contaminated by the biiping tone. Provide an explanation for your code.\n"
   ]
  },
  {
   "cell_type": "code",
   "execution_count": null,
   "metadata": {
    "deletable": false,
    "nbgrader": {
     "cell_type": "code",
     "checksum": "92aae75637135d481b741620101ce826",
     "grade": true,
     "grade_id": "cell-52192b88ab827f6f",
     "locked": false,
     "points": 2,
     "schema_version": 3,
     "solution": true,
     "task": false
    }
   },
   "outputs": [],
   "source": [
    "# WRITE YOUR CODE IN THIS CELL:"
   ]
  },
  {
   "cell_type": "markdown",
   "metadata": {
    "deletable": false,
    "nbgrader": {
     "cell_type": "markdown",
     "checksum": "b3d5dd5b1e5b40a56182916c8cc70d17",
     "grade": true,
     "grade_id": "cell-c926e33ba6c05c7e",
     "locked": false,
     "points": 1,
     "schema_version": 3,
     "solution": true,
     "task": false
    }
   },
   "source": [
    "\n",
    "<div class=\"alert alert-info\">\n",
    "<h4> Answer theory questions here!</h4>\n",
    "</div>\n"
   ]
  },
  {
   "cell_type": "code",
   "execution_count": null,
   "metadata": {
    "deletable": false,
    "editable": false,
    "nbgrader": {
     "cell_type": "code",
     "checksum": "da32f4751e7b4b3f6f02166466c32b56",
     "grade": false,
     "grade_id": "cell-f27b13eb0d35270a",
     "locked": true,
     "schema_version": 3,
     "solution": false,
     "task": false
    }
   },
   "outputs": [],
   "source": [
    "Audio(yn, rate=fs)"
   ]
  }
 ],
 "metadata": {
  "kernelspec": {
   "display_name": "Python 3 (ipykernel)",
   "language": "python",
   "name": "python3"
  },
  "language_info": {
   "codemirror_mode": {
    "name": "ipython",
    "version": 3
   },
   "file_extension": ".py",
   "mimetype": "text/x-python",
   "name": "python",
   "nbconvert_exporter": "python",
   "pygments_lexer": "ipython3",
   "version": "3.12.2"
  },
  "toc": {
   "base_numbering": 1,
   "nav_menu": {},
   "number_sections": false,
   "sideBar": true,
   "skip_h1_title": false,
   "title_cell": "Table of Contents",
   "title_sidebar": "Contents",
   "toc_cell": false,
   "toc_position": {},
   "toc_section_display": true,
   "toc_window_display": true
  },
  "varInspector": {
   "cols": {
    "lenName": 16,
    "lenType": 16,
    "lenVar": 40
   },
   "kernels_config": {
    "python": {
     "delete_cmd_postfix": "",
     "delete_cmd_prefix": "del ",
     "library": "var_list.py",
     "varRefreshCmd": "print(var_dic_list())"
    },
    "r": {
     "delete_cmd_postfix": ") ",
     "delete_cmd_prefix": "rm(",
     "library": "var_list.r",
     "varRefreshCmd": "cat(var_dic_list()) "
    }
   },
   "types_to_exclude": [
    "module",
    "function",
    "builtin_function_or_method",
    "instance",
    "_Feature"
   ],
   "window_display": false
  }
 },
 "nbformat": 4,
 "nbformat_minor": 4
}
