{
 "cells": [
  {
   "cell_type": "markdown",
   "id": "b540b037-197a-4a66-9a8e-e279136ca436",
   "metadata": {},
   "source": [
    "# Part 2: Getting started with the STM32\n",
    "\n",
    "#### Learning goals\n",
    "\n",
    "* Get to know the CubeIDE programming environment\n",
    "* Write your first STM32 Program\n",
    "* Learn to transmit messages over UART\n",
    "\n",
    "\n",
    "#### Introduction\n",
    "Now that we know the basics of sampling theory, it's time to learn how to program our STM32F446re Nucleo Board to do a few very basic tasks. Later in the assignment we will expand these first programs to sample a signal at a set sampe rate $f_s$, and do some basic digital signal processing.\n"
   ]
  },
  {
   "cell_type": "markdown",
   "id": "82ce2d54-b22b-4647-9ec9-b77f76644629",
   "metadata": {
    "deletable": false,
    "editable": false,
    "nbgrader": {
     "cell_type": "markdown",
     "checksum": "9e484cc968e83b486991769e4f8c8e0c",
     "grade": false,
     "grade_id": "cell-5d9b80f9ec562d8d",
     "locked": true,
     "points": 5,
     "schema_version": 3,
     "solution": false,
     "task": true
    }
   },
   "source": [
    "## a) Tools installation\n",
    "\n",
    "Follow the installation [instructions on the ST.com website](https://wiki.st.com/stm32mcu/wiki/STM32StepByStep:Step1_Tools_installation) to set up the IDE. <br>\n",
    "Take note: our nucleo board is an F446RE, which means we need to install the **STM32F4** MCU software package with embedded examples.\n",
    "\n"
   ]
  },
  {
   "cell_type": "markdown",
   "id": "0d760995-3a1a-408e-b4b2-4de67b6f2c4b",
   "metadata": {},
   "source": [
    "## b) Blinking LED\n",
    "As a starting point for programming the STM32, complete the [blinking LED example in the \"Getting started with GPIO\" page](https://wiki.st.com/stm32mcu/wiki/Getting_started_with_GPIO) to check that you can now program the STM32 MCU. Copy and paste your `main(void)` function below:"
   ]
  },
  {
   "cell_type": "markdown",
   "id": "90a65eb2-47eb-4972-a32b-73e58770163b",
   "metadata": {
    "deletable": false,
    "nbgrader": {
     "cell_type": "markdown",
     "checksum": "e44f3c7d87a186d445702c4ede2a68eb",
     "grade": true,
     "grade_id": "cell-3396cf533835e8e3",
     "locked": false,
     "points": 0,
     "schema_version": 3,
     "solution": true,
     "task": false
    }
   },
   "source": [
    "```C\n",
    "\n",
    "int main(void){\n",
    "\n",
    "/* Fill inn C-code here! */\n",
    "\n",
    "}\n",
    "\n",
    "```"
   ]
  },
  {
   "cell_type": "markdown",
   "id": "6b7c80a1-c2d1-4147-a72f-ac545e0abbf5",
   "metadata": {},
   "source": [
    "## c) UART\n",
    "\n",
    "The simplest way to provide a readable output from the a microcontroller is to use a serial communiction protocol such as UART to transmit a message to a PC connected to the microcontroller. Read the guide [Introduction to the UART](https://wiki.st.com/stm32mcu/wiki/STM32StepByStep:Step3_Introduction_to_the_UART), and modify your program from problem **b)** so it also transmits the messges `LED ON` and `LED OFF`. To turn a LED on or off you can use the function `HAL_GPIO_WritePin`: \n",
    ">```C\n",
    ">HAL_GPIO_WritePin(LD2_GPIO_Port, LD2_Pin, GPIO_PIN_RESET); // Turns LED off!\n",
    ">HAL_GPIO_WritePin(LD2_GPIO_Port, LD2_Pin, GPIO_PIN_SET); // Turns LED on!\n",
    ">```\n",
    "\n",
    "\n",
    "To monitor transmitted information, you can use a serial monitor such as the one included in the Aruino IDE to monitor messages from the STM32, or use the Python module [`pyserial`](https://pypi.org/project/pyserial/) to handle serial transmissions:\n",
    "\n",
    "```Python\n",
    "import serial\n",
    "\n",
    "# Configuration\n",
    "SERIAL_PORT = 'COM3'  # Modify to appropriate COM port for your PC\n",
    "BAUD_RATE = 115_200   # Can go much higher, but this is default\n",
    "\n",
    "# Setup serial connection\n",
    "ser = serial.Serial(SERIAL_PORT, BAUD_RATE)\n",
    "print(f\"Connected to {SERIAL_PORT} at {BAUD_RATE} baud.\")\n",
    "\n",
    "while True:\n",
    "    line_bytes = ser.readline()\n",
    "    line_msg = line_bytes.decode('utf-8')\n",
    "    print(line_msg)\n",
    "```\n",
    "\n",
    "Copy and paste your `main(void)` function below:"
   ]
  },
  {
   "cell_type": "markdown",
   "id": "1342f7f9-a49f-4473-b9c9-4acb67794eff",
   "metadata": {
    "deletable": false,
    "nbgrader": {
     "cell_type": "markdown",
     "checksum": "f025096693c8fe87fcb9a08a872f4972",
     "grade": true,
     "grade_id": "cell-78b23909b8774909",
     "locked": false,
     "points": 0,
     "schema_version": 3,
     "solution": true,
     "task": false
    }
   },
   "source": [
    "```C\n",
    "\n",
    "int main(void){\n",
    "\n",
    "/* Fill inn C-code here! */\n",
    "\n",
    "}\n",
    "\n",
    "```"
   ]
  }
 ],
 "metadata": {
  "kernelspec": {
   "display_name": "Python 3 (ipykernel)",
   "language": "python",
   "name": "python3"
  },
  "language_info": {
   "codemirror_mode": {
    "name": "ipython",
    "version": 3
   },
   "file_extension": ".py",
   "mimetype": "text/x-python",
   "name": "python",
   "nbconvert_exporter": "python",
   "pygments_lexer": "ipython3",
   "version": "3.12.2"
  }
 },
 "nbformat": 4,
 "nbformat_minor": 5
}
