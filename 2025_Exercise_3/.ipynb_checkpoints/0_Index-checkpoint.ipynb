{
 "cells": [
  {
   "cell_type": "markdown",
   "id": "3f5ec9ba-2030-4ff5-b86d-fecbf7480973",
   "metadata": {
    "editable": true,
    "slideshow": {
     "slide_type": ""
    },
    "tags": []
   },
   "source": [
    "# Exercise 3: Sampling, aliasing and A/D conversion\n",
    "\n",
    "This exercise is a lab exercise consisting of preparatory theory questions, and practical lab assignments where we will set up and observe the behavior of A/D and D/A conversion. This is also the first exercise where we will make use of our STM32 F446re Nucleo board, which will be our main platform for implementing DSP systems. As such, a secondary goal of this exercise is to familiarize yourself with the STM32 CubeIDE programming environment which it is highly recommended you make use of when programming the microcontroller (at least to start with).\n",
    "\n",
    "## Relevant reading materials\n",
    "* Chapter 2 - Periodic Sampling\n",
    "* Chapter 12.3- Effects of Finite Fixed-Point Binary Word Length\n",
    "* [Supplement on Successive Approximation ADCs](Documents/SAR_supplement.pdf)\n",
    "\n",
    "\n",
    "| |Task | Topics|\n",
    "|--:|:--|:--|\n",
    "|1| [Sampling and Aliasing theory quiz](1_Aliasing_Theory_Quiz.ipynb) | Sampling, aliasing, quantization & SNR|\n",
    "|2| [Programming the STM32](2_STM32_Intro.ipynb)| Your first embedded C program on the STM32|\n",
    "|3| [Hardware Timers](3_Hardware_Timers.ipynb)| A step-by-step guide to using the Hardware Timer|\n",
    "|4| [ADC Setup](4_ADC_Setup.ipynb)| A step-by-step guide to using the Analog-to-Digital Converter|\n",
    "|5| [Threshold Crossing Algorithm](5_Freq_detect.ipynb) | Implementing a system to identify the frequency of an input signal|\n",
    "|6| [Exercise review](6_exercise_review.ipynb)| *Notes for use in conversation with lecturer/student assistant* |\n",
    "\n",
    "### Approval of exercise\n",
    "\n",
    "The exercise must be approved in person by teacher or teaching assistant during one of the lab session. A minimum of 4 out of 5 tasks should be answered by that time.\n",
    "\n",
    "### Hand-in for portfolio\n",
    "\n",
    "Once the assignment has been approved, run the below code cell to generate a PDF-document for the assignment, and upload it to Blackboard.\n",
    "\n"
   ]
  },
  {
   "cell_type": "code",
   "execution_count": 2,
   "id": "f2b4d4c3-a142-4a3e-9740-4548a763fe36",
   "metadata": {
    "editable": true,
    "slideshow": {
     "slide_type": ""
    },
    "tags": []
   },
   "outputs": [
    {
     "name": "stdin",
     "output_type": "stream",
     "text": [
      "What is your name? Kai Erik\n"
     ]
    }
   ],
   "source": [
    "from pdf_export import write_to_PDF, pdf_convert_debug\n",
    "\n",
    "# Custom PDF file data\n",
    "author = input(\"What is your name?\")\n",
    "\n",
    "write_to_PDF(author)"
   ]
  }
 ],
 "metadata": {
  "kernelspec": {
   "display_name": "Python 3 (ipykernel)",
   "language": "python",
   "name": "python3"
  },
  "language_info": {
   "codemirror_mode": {
    "name": "ipython",
    "version": 3
   },
   "file_extension": ".py",
   "mimetype": "text/x-python",
   "name": "python",
   "nbconvert_exporter": "python",
   "pygments_lexer": "ipython3",
   "version": "3.12.2"
  }
 },
 "nbformat": 4,
 "nbformat_minor": 5
}
