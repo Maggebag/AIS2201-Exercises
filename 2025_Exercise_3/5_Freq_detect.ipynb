{
 "cells": [
  {
   "cell_type": "markdown",
   "id": "c4defa9e-1404-40a8-a4c0-0b54f6506971",
   "metadata": {},
   "source": [
    "# Part 5: Programming the STM32 for frequency detection\n",
    "\n",
    "#### Learning goals:\n",
    "* Implementing a simple DSP system on an STM32\n",
    "* Experience the effects of Aliasing first-hand"
   ]
  },
  {
   "cell_type": "markdown",
   "id": "7af44156-d330-412d-bdac-621ab04cc54a",
   "metadata": {},
   "source": [
    "#### Introduction\n",
    "We will now combine what we have learned in part $1$ through $4$, and implemement a threshold crossing algorithm which transmits the frequency detected at the ADC input to the PC. The apparent input frequency is calculated once per second, and is accomplished by recording the number of times the input signal value crosses a set threshold in the positive direction.\n",
    "\n",
    "A suitable possible threshold could be the middle of the ADC range, in other words adc value `2048`."
   ]
  },
  {
   "cell_type": "markdown",
   "id": "c84a3899-3dfd-4bd7-bb53-5fff4501170b",
   "metadata": {},
   "source": [
    "## a)\n",
    "Expand the `HAL_ADC_ConvCpltCallback` function description so that every time a new sample is read, the following happens:\n",
    "\n",
    "- If new sample $x[n]$ is above threshold, **and** $x[n-1]$ was below threshold:\n",
    "    - Increment number of observed crossings by 1\n",
    "- Sample counter $n$ incremented by 1 regardless\n",
    "\n",
    "Copy your `C` code into the markdown cell below"
   ]
  },
  {
   "cell_type": "markdown",
   "id": "1bd6deb7-db5b-479a-95f7-932260e73f30",
   "metadata": {
    "deletable": false,
    "nbgrader": {
     "cell_type": "markdown",
     "checksum": "18b814763f085bddd13832e22ced2f65",
     "grade": true,
     "grade_id": "cell-719f45c93e22bba5",
     "locked": false,
     "points": 0,
     "schema_version": 3,
     "solution": true,
     "task": false
    }
   },
   "source": [
    "```C\n",
    "/* Fill in global variables here! */\n",
    "\n",
    "\n",
    "void HAL_ADC_ConvCpltCallback(ADC_HandleTypeDef* hadc){\n",
    "    adc_value = HAL_ADC_GetValue(&hadcx); // Read converted sample value from the ADC and store in adc_value.\n",
    "    HAL_DAC_SetValue(&hdac, DAC_CHANNEL_1, DAC_ALIGN_12B_R, adc_value); // Write the value in adc_value to DAC channel 1 using 12 bit resolution.\n",
    "\n",
    "    /* Fill inn threshold crossing detection here! */\n",
    "    \n",
    "}\n",
    "\n",
    "```"
   ]
  },
  {
   "cell_type": "markdown",
   "id": "8586ac5b-7f08-41ff-bc3b-268eb6a6ce40",
   "metadata": {},
   "source": [
    "## b)\n",
    "Expand the infinite loop so the following happens:\n",
    "* if sample counter $n \\geq fs$:\n",
    "    * reset sample counter $n=0$\n",
    "    * Transmit threshold crossing count over UART\n",
    "    * reset threshold crossing count to `0`\n",
    "\n",
    "Copy your `C` code into the markdown cell below"
   ]
  },
  {
   "cell_type": "markdown",
   "id": "b856df44-3193-401d-8450-c5461c26f7b7",
   "metadata": {
    "deletable": false,
    "nbgrader": {
     "cell_type": "markdown",
     "checksum": "299c9da3f43aa3e299610ef03ff12977",
     "grade": true,
     "grade_id": "cell-41a857fd90fe36fd",
     "locked": false,
     "points": 0,
     "schema_version": 3,
     "solution": true,
     "task": false
    }
   },
   "source": [
    "```C\n",
    "int main(void){\n",
    "\n",
    "/* Fill inn C-code here! */\n",
    "\n",
    "}\n",
    "```"
   ]
  },
  {
   "cell_type": "markdown",
   "id": "810c5e48-de2f-4d9e-98a7-fe6f480ca1da",
   "metadata": {},
   "source": [
    "## c)\n",
    "\n",
    "With the STM32 connected to a signal generator, use a serial monitor to view the output from your frequency detection program. Gradually increase the input frequency until it exceeds the Nyquist Frequency. Does aliasing occur? How can you tell?"
   ]
  },
  {
   "cell_type": "markdown",
   "id": "f9e51e08-b735-4b3e-be1c-9c204603d95d",
   "metadata": {
    "deletable": false,
    "nbgrader": {
     "cell_type": "markdown",
     "checksum": "1d4000f20bd6e323263ee07a5b48f9c7",
     "grade": true,
     "grade_id": "cell-4e0d9c5fc736e0c5",
     "locked": false,
     "points": 0,
     "schema_version": 3,
     "solution": true,
     "task": false
    }
   },
   "source": [
    "\n",
    "<div class=\"alert alert-info\">\n",
    "<h4> Answer theory questions here!</h4>\n",
    "</div>\n"
   ]
  }
 ],
 "metadata": {
  "kernelspec": {
   "display_name": "Python 3 (ipykernel)",
   "language": "python",
   "name": "python3"
  },
  "language_info": {
   "codemirror_mode": {
    "name": "ipython",
    "version": 3
   },
   "file_extension": ".py",
   "mimetype": "text/x-python",
   "name": "python",
   "nbconvert_exporter": "python",
   "pygments_lexer": "ipython3",
   "version": "3.12.2"
  }
 },
 "nbformat": 4,
 "nbformat_minor": 5
}
