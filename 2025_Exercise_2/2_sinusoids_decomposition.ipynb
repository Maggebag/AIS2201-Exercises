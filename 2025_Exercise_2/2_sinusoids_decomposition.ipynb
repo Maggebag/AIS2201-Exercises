{
 "cells": [
  {
   "cell_type": "markdown",
   "id": "78e2bb37-2e39-48bf-8278-9cb1709701f2",
   "metadata": {
    "editable": true,
    "slideshow": {
     "slide_type": ""
    },
    "tags": []
   },
   "source": [
    "# Problem 2: decomposition of sinusoids"
   ]
  },
  {
   "cell_type": "markdown",
   "id": "62ffede6-b520-48b7-bf44-5e61b6929b54",
   "metadata": {},
   "source": [
    "Alongside this exercise is a data file containing time- and sample values for a sinusoid with frequency $f=5\\text{ Hz}$, with unknown magnitude and phase components. The code cell below is used to load the data and produce a plot of the sinusoid."
   ]
  },
  {
   "cell_type": "code",
   "execution_count": null,
   "id": "bc42ae15-ea3f-41b4-863f-294641936d08",
   "metadata": {
    "deletable": false,
    "editable": false,
    "nbgrader": {
     "cell_type": "code",
     "checksum": "4c0e707ec75a37fbfc96b3813d0a845d",
     "grade": true,
     "grade_id": "cell-28207e7362f78a05",
     "locked": true,
     "points": 0,
     "schema_version": 3,
     "solution": false,
     "task": false
    }
   },
   "outputs": [],
   "source": [
    "from scipy.io import loadmat\n",
    "import matplotlib.pyplot as plt\n",
    "file_contents = loadmat(\"unknown_sinusoid.mat\")\n",
    "t = file_contents[\"t\"].flatten()\n",
    "x = file_contents[\"x\"].flatten()\n",
    "plt.close(1); plt.figure(1)\n",
    "plt.plot(t, x)\n",
    "plt.xlabel(\"Time $t$ (seconds)\")\n",
    "plt.title(\"Mystery $5\\\\text{ Hz}$ sinusoid\")"
   ]
  },
  {
   "cell_type": "markdown",
   "id": "6e877fa8-c2e1-48c5-8e92-fe888b374174",
   "metadata": {},
   "source": [
    "Our task in this problem is to find a way to ***computationally*** identify the magnitude and phase of the sinusoid $x(t)$ by decomposing it into a cosine function with amplitude $A_x$ and a sine function with amplitude $A_y$. In order to accomplish this we make use of the product identities for trigonometric functions, from which we can infer the result of multiplying two sinusoid functions:\n",
    "\n",
    "$$\\cos(\\alpha) \\cdot \\cos(\\beta) = \\frac{ \\cos(\\alpha + \\beta) + \\cos(\\alpha - \\beta)}{2} \\tag{1}$$\n",
    "\n",
    "*Remember: $\\sin(x) = \\cos(x - 90^{\\circ})$.*\n",
    "\n",
    "Run the cell below to show an interactive demo illustrating the effects of multiplying two sinusoids, also referred to as *frequency mixing*."
   ]
  },
  {
   "cell_type": "code",
   "execution_count": null,
   "id": "01bd1554-673c-4027-9734-ef08e03e639b",
   "metadata": {},
   "outputs": [],
   "source": [
    "from demos import FrequencyMixingDemo\n",
    "%matplotlib ipympl\n",
    "FrequencyMixingDemo(fig_num=2);"
   ]
  },
  {
   "cell_type": "markdown",
   "id": "5cd00ba6-1d38-4cee-b2e5-228c7a1b206a",
   "metadata": {},
   "source": [
    "## a)\n",
    "\n",
    "Given one set of sinusoid multiplications (1-4)and another set of functions(A-D), match each multiplication of sinusoids with one of the functions.\n",
    "\n",
    "1. $\\cos(\\omega \\cdot t ) \\cdot \\cos(\\omega \\cdot t)$\n",
    "2. $\\cos(\\omega \\cdot t ) \\cdot \\sin(\\omega \\cdot t)$\n",
    "3. $-\\sin(\\omega \\cdot t ) \\cdot \\cos(\\omega \\cdot t)$\n",
    "4. $\\sin(\\omega \\cdot t ) \\cdot \\sin(\\omega \\cdot t)$\n",
    "\n",
    "\n",
    "A. $\\frac{1}{2} \\cdot \\sin(2\\omega \\cdot t)$<br>\n",
    "B. $\\frac{1}{2} - \\frac{1}{2} \\cdot \\cos(2\\omega \\cdot t)$<br>\n",
    "C. $-\\frac{1}{2} \\cdot \\sin(2\\omega \\cdot t)$<br>\n",
    "D. $\\frac{1}{2} + \\frac{1}{2} \\cdot \\cos(2\\omega \\cdot t)$\n",
    "\n",
    "Write your answer in the markdown cell below."
   ]
  },
  {
   "cell_type": "markdown",
   "id": "e2731304-32b5-4d91-b148-cb4fe535ed06",
   "metadata": {
    "deletable": false,
    "nbgrader": {
     "cell_type": "markdown",
     "checksum": "659a28c4efe031f9dcc096ea9e2485bd",
     "grade": true,
     "grade_id": "cell-b86e5f64ebadb2db",
     "locked": false,
     "points": 4,
     "schema_version": 3,
     "solution": true,
     "task": false
    }
   },
   "source": [
    "\n",
    "<div class=\"alert alert-info\">\n",
    "<h4> Answer theory questions here!</h4>\n",
    "</div>\n"
   ]
  },
  {
   "cell_type": "markdown",
   "id": "0ec7e1fa-ccc4-4673-8e07-2d04ce557c37",
   "metadata": {
    "editable": true,
    "slideshow": {
     "slide_type": ""
    },
    "tags": []
   },
   "source": [
    "As we observed in problem **a)**, all of the sinusoid product functions contain a new sinusoid term with $2\\times$ the frequency, but only some of them contain a constant term. Now let's complicate matters somewhat, and see what happens when we multiply any sinusoid $x(t) = A_I\\cdot \\cos(\\omega\\cdot t) + A_Q \\cdot \\sin(\\omega \\cdot t)$ of frequency $\\omega$ by either a sine or a cosine function.\n",
    "\n",
    "\n",
    "## b)\n",
    "\n",
    "A. $\\left(A_I \\cdot \\cos(\\omega \\cdot t) + A_Q \\cdot \\sin(\\omega \\cdot t)\\right) \\cdot \\cos(\\omega\\cdot t)$ <br>\n",
    "B. $\\left(A_I \\cdot \\cos(\\omega \\cdot t) + A_Q \\cdot \\sin(\\omega \\cdot t)\\right) \\cdot \\sin(\\omega\\cdot t)$\n",
    "\n",
    "1. $\\frac{A_I}{2} + \\frac{A_I}{2} \\cdot \\cos(2\\omega \\cdot t) + \\frac{A_Q}{2} \\cdot \\sin(2\\omega \\cdot t)$<br>\n",
    "3. $\\frac{A_I}{2} + \\frac{A_I}{2} \\cdot \\sin(2\\omega \\cdot t) + \\frac{A_Q}{2} - \\frac{A_Q}{2} \\cdot \\cos(2\\omega \\cdot t)$ <br>\n",
    "2. $\\frac{A_I}{2} \\cdot \\sin(2\\omega \\cdot t) + \\frac{A_Q}{2} - \\frac{A_Q}{2} \\cdot \\cos(2\\omega \\cdot t)$<br>\n",
    "4. $\\frac{A_I}{2} \\cdot \\sin(2\\omega \\cdot t) - \\frac{A_Q}{2} \\cdot \\cos(2\\omega \\cdot t)$\n",
    "\n",
    "Match each multiplication of sinusoids with one of the functions. _Hint: use your answers from problem **a)**, and figure out what must be the correct answer through eliminating the answers that don't 'fit'_"
   ]
  },
  {
   "cell_type": "markdown",
   "id": "efea4f5e-5151-401b-ad4c-b6fd0a88ec82",
   "metadata": {
    "deletable": false,
    "nbgrader": {
     "cell_type": "markdown",
     "checksum": "09e831783d97ab9c072e45e923b792a8",
     "grade": true,
     "grade_id": "cell-8b912e78ec0edbee",
     "locked": false,
     "points": 4,
     "schema_version": 3,
     "solution": true,
     "task": false
    }
   },
   "source": [
    "\n",
    "<div class=\"alert alert-info\">\n",
    "<h4> Answer theory questions here!</h4>\n",
    "</div>\n"
   ]
  },
  {
   "cell_type": "markdown",
   "id": "bf8f9a41-3918-4cad-918d-1c44d744b75c",
   "metadata": {},
   "source": [
    "## c)\n",
    "\n",
    "Uisng the sinusoid $x(t)$ from the data file, calculate $x(t) \\cdot \\cos(2\\pi \\cdot 5 \\cdot t)$ and $x(t)\\cdot \\sin(2\\pi \\cdot 5 \\cdot t)$ with python, and create a plot containing the curves of both product signals. What is the main difference between the two curves, and can you find some connection between the plot and your answer in problem **b)**?\n"
   ]
  },
  {
   "cell_type": "markdown",
   "id": "3a2d0bf5-6c95-4791-bb0e-3cdd595f76ad",
   "metadata": {
    "deletable": false,
    "editable": true,
    "nbgrader": {
     "cell_type": "markdown",
     "checksum": "2883a0e1dbfb568d80f052d3903fa8ae",
     "grade": true,
     "grade_id": "cell-84a08dbc54ff69bc",
     "locked": false,
     "points": 4,
     "schema_version": 3,
     "solution": true,
     "task": false
    },
    "slideshow": {
     "slide_type": ""
    },
    "tags": []
   },
   "source": [
    "\n",
    "<div class=\"alert alert-info\">\n",
    "<h4> Answer theory questions here!</h4>\n",
    "</div>\n"
   ]
  },
  {
   "cell_type": "code",
   "execution_count": null,
   "id": "845363f2-664f-43de-935d-4458bcc25dd9",
   "metadata": {
    "deletable": false,
    "editable": true,
    "nbgrader": {
     "cell_type": "code",
     "checksum": "9eac91038b58fdf2f3d8c6a08bb1b950",
     "grade": true,
     "grade_id": "cell-59d376be4aaa650f",
     "locked": false,
     "points": 4,
     "schema_version": 3,
     "solution": true,
     "task": false
    },
    "slideshow": {
     "slide_type": ""
    },
    "tags": []
   },
   "outputs": [],
   "source": [
    "import numpy as np\n",
    "import matplotlib.pyplot as plt\n",
    "plt.close(3); plt.figure(3); # Downside of using interactive ipympl plots. It is necessary to close and re-open figure when plotting again.\n",
    "# WRITE YOUR CODE IN THIS CELL:"
   ]
  },
  {
   "cell_type": "markdown",
   "id": "0fd00ea2-14f6-4d42-a419-af7461b78a82",
   "metadata": {},
   "source": [
    "*If you have answered the question correctly, the plot should look something like [this](Figurer/task2c_sol.png).*"
   ]
  },
  {
   "cell_type": "markdown",
   "id": "6b75cf09-1df4-4e8c-9d34-206f13216f4a",
   "metadata": {
    "editable": true,
    "slideshow": {
     "slide_type": ""
    },
    "tags": []
   },
   "source": [
    "The key to identifying the amplitudes $A_I$ and $A_Q$ in the sinusoid $x(t)$, is to isolate the terms $\\frac{A_I}{2}$ and $\\frac{A_Q}{2}$ from the frequency mixed signals $x(t) \\cdot \\cos(2\\pi \\cdot 5\\cdot t)$ and $x(t) \\cdot \\cos(2\\pi \\cdot 5\\cdot t)$. This is accomplished by calculating the **mean** of $x(t) \\cdot \\cos(2\\pi \\cdot 5\\cdot t)$ and $x(t)\\cdot \\sin(2\\pi \\cdot 5\\cdot t)$ respectively.\n",
    "## d)\n",
    "\n",
    "Use python to calculate $A_I$ and $A_Q$ for the sinusoid $x(t)$ from the data file. Finally, use $A_I$ and $A_Q$ to calculate magnitude and phase for $x(t)$.\n",
    "\n",
    "PS: The numpy-functions [`mean`](https://numpy.org/doc/stable/reference/generated/numpy.mean.html), [`sqrt`](https://numpy.org/doc/stable/reference/generated/numpy.sqrt.html) and [`arctan2`](https://numpy.org/doc/stable/reference/generated/numpy.arctan2.html) may come in handy."
   ]
  },
  {
   "cell_type": "code",
   "execution_count": null,
   "id": "57a309c9-726a-4084-a570-347863c3046c",
   "metadata": {
    "deletable": false,
    "editable": true,
    "nbgrader": {
     "cell_type": "code",
     "checksum": "b69edaca41ffa62982978147cc5271da",
     "grade": true,
     "grade_id": "cell-dacb9635cc281314",
     "locked": false,
     "points": 4,
     "schema_version": 3,
     "solution": true,
     "task": false
    },
    "slideshow": {
     "slide_type": ""
    },
    "tags": []
   },
   "outputs": [],
   "source": [
    "A_x = \"?\"\n",
    "A_y = \"?\"\n",
    "mag_x = \"?\"\n",
    "phi_x = \"?\"\n",
    "# WRITE YOUR CODE IN THIS CELL:"
   ]
  },
  {
   "cell_type": "markdown",
   "id": "2c450639-05ea-4491-94cb-414d34c19137",
   "metadata": {
    "editable": true,
    "slideshow": {
     "slide_type": ""
    },
    "tags": []
   },
   "source": [
    "Not sure whether your answer is correct? How about generating a new sinusoid based on the answers you have calculated, and plotting it alongside $x(t)$? It should look something like [this](Figurer/Task2d_sol.png)."
   ]
  }
 ],
 "metadata": {
  "kernelspec": {
   "display_name": "Python 3 (ipykernel)",
   "language": "python",
   "name": "python3"
  },
  "language_info": {
   "codemirror_mode": {
    "name": "ipython",
    "version": 3
   },
   "file_extension": ".py",
   "mimetype": "text/x-python",
   "name": "python",
   "nbconvert_exporter": "python",
   "pygments_lexer": "ipython3",
   "version": "3.12.2"
  }
 },
 "nbformat": 4,
 "nbformat_minor": 5
}
