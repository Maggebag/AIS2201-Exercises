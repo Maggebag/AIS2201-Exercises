{
 "cells": [
  {
   "cell_type": "markdown",
   "id": "654c33f1-c9b2-4c0d-9ad4-18133576c62c",
   "metadata": {
    "editable": true,
    "slideshow": {
     "slide_type": ""
    },
    "tags": []
   },
   "source": [
    "# Problem 5: Review notes for exercise 1\n",
    "\n",
    "Exercises are approved in-person during lab session for the course. You will be asked to show your work to a lecturer or student assistant, and the two of you will go through the assignment together. In addition to being a mechanism for approving assignments, these conversations are a good opportunity to clear up any lingering questions or concepts which you're not 100% sure about. \n"
   ]
  },
  {
   "cell_type": "markdown",
   "id": "9c246717-42b1-43ff-86b1-bef1b93fd33b",
   "metadata": {
    "editable": true,
    "slideshow": {
     "slide_type": ""
    },
    "tags": []
   },
   "source": [
    "## Notes for weekly review\n",
    "\n",
    "You are encouraged to write a few bullet points on your experience with the exercise, to be used as a guiding reference to the conversation with the student assistant. Here are a few questions to get you started.\n",
    "\n",
    "* Were you able to complete all questions in the exercise?\n",
    "* What part of the exercise did you find challenging?\n",
    "* What was positive about this week's exercise?\n",
    "* What part of the exercise could have been better designed?\n",
    "* Is there anything in particular you wish to ask about?"
   ]
  },
  {
   "cell_type": "markdown",
   "id": "0904756d-7a62-4922-a60a-c604149b3fc5",
   "metadata": {
    "deletable": false,
    "editable": true,
    "nbgrader": {
     "cell_type": "markdown",
     "checksum": "dc9ebbf6cb8d602a1388acd1f2c2f1b0",
     "grade": true,
     "grade_id": "cell-4f05ff2a31d058ed",
     "locked": false,
     "points": 0,
     "schema_version": 3,
     "solution": true,
     "task": false
    },
    "slideshow": {
     "slide_type": ""
    },
    "tags": []
   },
   "source": [
    "\n",
    "<div class=\"alert alert-info\">\n",
    "<h4> Answer theory questions here!</h4>\n",
    "</div>\n"
   ]
  },
  {
   "cell_type": "markdown",
   "id": "7dfe6acd-b430-4b08-82d3-b45f0f73796c",
   "metadata": {
    "editable": true,
    "slideshow": {
     "slide_type": ""
    },
    "tags": []
   },
   "source": [
    "## End-of-year review\n",
    "\n",
    "Before handing in the exercise reports as part of your portfolio hand-in, take a few minutes to skim through the assignment and look through the notes you wrote for the weekly review and answer the following questions:\n",
    "\n",
    "* If there were particularly challenging topics in this assignment, have the learning activities since then helped you understand said topics and if so, how?\n",
    "* Were there any particular parts of this assignment which proved particularly relevant when working with the portfolio project?"
   ]
  },
  {
   "cell_type": "markdown",
   "id": "450fab0b-16ab-4484-b1fb-24c49c057d52",
   "metadata": {
    "deletable": false,
    "nbgrader": {
     "cell_type": "markdown",
     "checksum": "14a8fd3dbef728c1da3137ce574bad96",
     "grade": true,
     "grade_id": "cell-ddc6c761f213f5f2",
     "locked": false,
     "points": 0,
     "schema_version": 3,
     "solution": true,
     "task": false
    }
   },
   "source": [
    "\n",
    "<div class=\"alert alert-info\">\n",
    "<h4> Answer theory questions here!</h4>\n",
    "</div>\n"
   ]
  }
 ],
 "metadata": {
  "kernelspec": {
   "display_name": "Python 3 (ipykernel)",
   "language": "python",
   "name": "python3"
  },
  "language_info": {
   "codemirror_mode": {
    "name": "ipython",
    "version": 3
   },
   "file_extension": ".py",
   "mimetype": "text/x-python",
   "name": "python",
   "nbconvert_exporter": "python",
   "pygments_lexer": "ipython3",
   "version": "3.11.5"
  }
 },
 "nbformat": 4,
 "nbformat_minor": 5
}
